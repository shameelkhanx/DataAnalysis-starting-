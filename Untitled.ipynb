{
 "cells": [
  {
   "cell_type": "code",
   "execution_count": 1,
   "id": "3d01c841-8abf-43da-83ec-670a288a842b",
   "metadata": {},
   "outputs": [],
   "source": [
    "import matplotlib.pyplot as plt"
   ]
  },
  {
   "cell_type": "code",
   "execution_count": 2,
   "id": "7cadc1d2-be6f-41e2-94c8-8b227844cf43",
   "metadata": {},
   "outputs": [],
   "source": [
    "import pandas as pd"
   ]
  },
  {
   "cell_type": "code",
   "execution_count": 3,
   "id": "204d8966-2a38-4732-a87d-e0498cfcb535",
   "metadata": {},
   "outputs": [],
   "source": [
    "import numpy as np"
   ]
  },
  {
   "cell_type": "code",
   "execution_count": 42,
   "id": "0c020bfd-fa7a-4f6e-a4e5-aad618aebc78",
   "metadata": {},
   "outputs": [
    {
     "name": "stdin",
     "output_type": "stream",
     "text": [
      "Enter the value of Current 10\n"
     ]
    },
    {
     "name": "stdout",
     "output_type": "stream",
     "text": [
      "[10.0]\n"
     ]
    },
    {
     "name": "stdin",
     "output_type": "stream",
     "text": [
      "Enter the value of Current 12\n"
     ]
    },
    {
     "name": "stdout",
     "output_type": "stream",
     "text": [
      "[10.0, 12.0]\n"
     ]
    },
    {
     "name": "stdin",
     "output_type": "stream",
     "text": [
      "Enter the value of Current 14\n"
     ]
    },
    {
     "name": "stdout",
     "output_type": "stream",
     "text": [
      "[10.0, 12.0, 14.0]\n"
     ]
    },
    {
     "name": "stdin",
     "output_type": "stream",
     "text": [
      "Enter the value of Current 16\n"
     ]
    },
    {
     "name": "stdout",
     "output_type": "stream",
     "text": [
      "[10.0, 12.0, 14.0, 16.0]\n"
     ]
    },
    {
     "name": "stdin",
     "output_type": "stream",
     "text": [
      "Enter the value of Current 18\n"
     ]
    },
    {
     "name": "stdout",
     "output_type": "stream",
     "text": [
      "[10.0, 12.0, 14.0, 16.0, 18.0]\n"
     ]
    }
   ],
   "source": [
    "## current\n",
    "I = []\n",
    "for i in range(5):\n",
    "    x = float(input('Enter the value of Current' ))\n",
    "    I.append((x))\n",
    "    print(I)"
   ]
  },
  {
   "cell_type": "code",
   "execution_count": 45,
   "id": "6f1f6315-bacd-42fe-9e9e-a64db9104c77",
   "metadata": {},
   "outputs": [
    {
     "name": "stdin",
     "output_type": "stream",
     "text": [
      "Enter the value of voltage 10\n"
     ]
    },
    {
     "name": "stdout",
     "output_type": "stream",
     "text": [
      "[10.0]\n"
     ]
    },
    {
     "name": "stdin",
     "output_type": "stream",
     "text": [
      "Enter the value of voltage 12\n"
     ]
    },
    {
     "name": "stdout",
     "output_type": "stream",
     "text": [
      "[10.0, 12.0]\n"
     ]
    },
    {
     "name": "stdin",
     "output_type": "stream",
     "text": [
      "Enter the value of voltage 14\n"
     ]
    },
    {
     "name": "stdout",
     "output_type": "stream",
     "text": [
      "[10.0, 12.0, 14.0]\n"
     ]
    },
    {
     "name": "stdin",
     "output_type": "stream",
     "text": [
      "Enter the value of voltage 16\n"
     ]
    },
    {
     "name": "stdout",
     "output_type": "stream",
     "text": [
      "[10.0, 12.0, 14.0, 16.0]\n"
     ]
    },
    {
     "name": "stdin",
     "output_type": "stream",
     "text": [
      "Enter the value of voltage 18\n"
     ]
    },
    {
     "name": "stdout",
     "output_type": "stream",
     "text": [
      "[10.0, 12.0, 14.0, 16.0, 18.0]\n"
     ]
    }
   ],
   "source": [
    "##voltage\n",
    "V = []\n",
    "for t in range(5):\n",
    "    y = float(input('Enter the value of voltage' ))\n",
    "    V.append((y))\n",
    "    print(V)"
   ]
  },
  {
   "cell_type": "code",
   "execution_count": 46,
   "id": "58cfad69-2766-4156-96b6-58c8ce454cdc",
   "metadata": {},
   "outputs": [],
   "source": [
    "d ={'Current(A)': I,'Voltage(V)': V}"
   ]
  },
  {
   "cell_type": "code",
   "execution_count": 47,
   "id": "b56d3bb2-dab9-4626-bc88-433cd3a0cfd5",
   "metadata": {},
   "outputs": [
    {
     "data": {
      "text/plain": [
       "{'Current(A)': [10.0, 12.0, 14.0, 16.0, 18.0],\n",
       " 'Voltage(V)': [10.0, 12.0, 14.0, 16.0, 18.0]}"
      ]
     },
     "execution_count": 47,
     "metadata": {},
     "output_type": "execute_result"
    }
   ],
   "source": [
    "d"
   ]
  },
  {
   "cell_type": "code",
   "execution_count": 59,
   "id": "124d5a31-6617-4f5a-b961-42a2bdc42268",
   "metadata": {},
   "outputs": [],
   "source": [
    "df = pd.DataFrame(d, index = [1,2,3,4,5])"
   ]
  },
  {
   "cell_type": "code",
   "execution_count": 72,
   "id": "78352a02-1daf-4ae8-a51f-4699a1a33e71",
   "metadata": {},
   "outputs": [
    {
     "data": {
      "image/png": "[encoded data removed]",
      "text/plain": [
       "<Figure size 640x480 with 1 Axes>"
      ]
     },
     "metadata": {},
     "output_type": "display_data"
    }
   ],
   "source": [
    "fig = plt.figure()\n",
    "ohm = fig.add_axes([0.1,0.1,0.8,0.8])\n",
    "ohm.plot(df['Current(A)'],df['Voltage(V)'])\n",
    "ohm.set_xlabel(df.columns[0])\n",
    "ohm.set_ylabel(df.columns[1]);"
   ]
  },
  {
   "cell_type": "code",
   "execution_count": null,
   "id": "b66329d7-56cf-4ada-b45f-f49ae93c3915",
   "metadata": {},
   "outputs": [],
   "source": []
  }
 ],
 "metadata": {
  "kernelspec": {
   "display_name": "Python 3 (ipykernel)",
   "language": "python",
   "name": "python3"
  },
  "language_info": {
   "codemirror_mode": {
    "name": "ipython",
    "version": 3
   },
   "file_extension": ".py",
   "mimetype": "text/x-python",
   "name": "python",
   "nbconvert_exporter": "python",
   "pygments_lexer": "ipython3",
   "version": "3.12.7"
  }
 },
 "nbformat": 4,
 "nbformat_minor": 5
}
